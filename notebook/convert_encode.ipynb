{
 "cells": [
  {
   "cell_type": "code",
   "execution_count": 1,
   "metadata": {},
   "outputs": [],
   "source": [
    "import chardet\n",
    "import os"
   ]
  },
  {
   "cell_type": "code",
   "execution_count": 2,
   "metadata": {},
   "outputs": [],
   "source": [
    "def getEncode(dir_file):\n",
    "    file = open(dir_file, 'rb')\n",
    "    result = chardet.detect(file.read())\n",
    "    file.close()\n",
    "    return result\n",
    "\n",
    "def getEncodeList(files_list):\n",
    "    return [getEncode(f) for f in files_list]\n",
    "\n",
    "def getFiles(myPath, extesion='.csv'):\n",
    "    return [os.path.join(myPath, f) for f in os.listdir(myPath) if f.endswith(extesion)]\n",
    "\n",
    "def convertEncode(files_list, encode_list, save_path='../database/SAMU/converted/', encode='utf-8'):\n",
    "    if not os.path.exists(save_path):\n",
    "        os.makedirs(save_path)\n",
    "    \n",
    "    for i in range(len(files_list)):\n",
    "        f= open(files_list[i], 'rb')\n",
    "        content= str(f.read(), encode_list[i]['encoding'])\n",
    "        f.close()\n",
    "        f= open(save_path + str(os.path.basename(files_list[i])), 'wb')\n",
    "        f.write(content.encode('utf-8'))\n",
    "        f.close()"
   ]
  },
  {
   "cell_type": "code",
   "execution_count": 3,
   "metadata": {},
   "outputs": [],
   "source": [
    "base_path = '../database/SAMU/'"
   ]
  },
  {
   "cell_type": "code",
   "execution_count": 4,
   "metadata": {},
   "outputs": [],
   "source": [
    "for i in range(2011, 2016):\n",
    "    mydir = base_path + str(i) + '/'\n",
    "    csv_files = getFiles(mydir)\n",
    "    encode_csv_files = getEncodeList(csv_files)\n",
    "    convertEncode(csv_files, encode_csv_files)"
   ]
  },
  {
   "cell_type": "code",
   "execution_count": 5,
   "metadata": {},
   "outputs": [],
   "source": [
    "#mydir = '../database/SAMU/converted/'\n",
    "#csv_files = getFiles(mydir)\n",
    "#encode_csv_files = getEncodeList(csv_files)\n",
    "#print(encode_csv_files)\n",
    "\n",
    "os.listdir('../database/SAMU/converted/')"
   ]
  }
 ],
 "metadata": {
  "kernelspec": {
   "display_name": "Python 3",
   "language": "python",
   "name": "python3"
  },
  "language_info": {
   "codemirror_mode": {
    "name": "ipython",
    "version": 3
   },
   "file_extension": ".py",
   "mimetype": "text/x-python",
   "name": "python",
   "nbconvert_exporter": "python",
   "pygments_lexer": "ipython3",
   "version": "3.7.1"
  }
 },
 "nbformat": 4,
 "nbformat_minor": 2
}
